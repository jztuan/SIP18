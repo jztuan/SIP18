{
 "cells": [
  {
   "cell_type": "code",
   "execution_count": 1,
   "metadata": {},
   "outputs": [],
   "source": [
    "## set paths to catalog/script files and output directories (for plots)\n",
    "data_dir = '../hdf5files/'\n",
    "script_dir = '../SIP_jerome_scripts2/'\n",
    "out_dir = './'"
   ]
  },
  {
   "cell_type": "code",
   "execution_count": 2,
   "metadata": {},
   "outputs": [],
   "source": [
    "## load plotting routines\n",
    "execfile(script_dir+'plot_routines.py')"
   ]
  },
  {
   "cell_type": "code",
   "execution_count": 3,
   "metadata": {},
   "outputs": [
    {
     "name": "stderr",
     "output_type": "stream",
     "text": [
      "/Users/Andy/anaconda2/lib/python2.7/site-packages/h5py/__init__.py:36: FutureWarning: Conversion of the second argument of issubdtype from `float` to `np.floating` is deprecated. In future, it will be treated as `np.float64 == np.dtype(float).type`.\n",
      "  from ._conv import register_converters as _register_converters\n",
      "WARNING: path= was not specified but multiple tables are present, reading in first available table (path=data) [astropy.io.misc.hdf5]\n"
     ]
    }
   ],
   "source": [
    "gds = Table.read(data_dir+'gds.hdf5')"
   ]
  },
  {
   "cell_type": "code",
   "execution_count": 4,
   "metadata": {},
   "outputs": [],
   "source": [
    "gds_selection = np.where ( \\\n",
    "                          (gds['PhotFlag']==0) &\\\n",
    "                          (gds['CLASS_STAR']>0.9) & \\\n",
    "                         (gds['ACS_F606W_FLUX'] > 0) &\\\n",
    "                          (gds['ACS_F814W_FLUX'] > 0) &\\\n",
    "                         (gds['WFC3_F125W_FLUX'] > 0))\n",
    "# last 3 conditions ensure log10() exists\n"
   ]
  },
  {
   "cell_type": "code",
   "execution_count": 5,
   "metadata": {},
   "outputs": [],
   "source": [
    "gds_temp = gds[gds_selection]\n",
    "gds_selection2 = np.where ( \\\n",
    "                          -2.5*np.log10(gds_temp['ACS_F814W_FLUX']) < 1.359689)\n",
    "gds_final = gds_temp[gds_selection2]"
   ]
  },
  {
   "cell_type": "code",
   "execution_count": 6,
   "metadata": {},
   "outputs": [],
   "source": [
    "## define variables for GOODS-S\n",
    "\n",
    "f606_gds_flux = gds_final['ACS_F606W_FLUX']  ## rest-frame .606 μm magnitude\n",
    "f814_gds_flux = gds_final['ACS_F814W_FLUX']   ## rest-frame .814 μm magnitude\n",
    "f125_gds_flux = gds_final['WFC3_F125W_FLUX']   ## rest-frame 1.60 μm magnitude\n",
    "\n",
    "f606_gds_mag = -2.5*np.log10(f606_gds_flux)\n",
    "f814_gds_mag = -2.5*np.log10(f814_gds_flux)\n",
    "f125_gds_mag = -2.5*np.log10(f125_gds_flux)\n",
    "\n",
    "f606_f814_gds = f606_gds_mag - f814_gds_mag\n",
    "f814_f125_gds = f814_gds_mag - f125_gds_mag\n",
    "\n",
    "mstar_gds = gds_final['M_med'] # already logged?\n",
    "z_gds = gds_final['z_best']  ## redshift"
   ]
  },
  {
   "cell_type": "code",
   "execution_count": 7,
   "metadata": {},
   "outputs": [
    {
     "name": "stderr",
     "output_type": "stream",
     "text": [
      "WARNING: path= was not specified but multiple tables are present, reading in first available table (path=data) [astropy.io.misc.hdf5]\n"
     ]
    }
   ],
   "source": [
    "egs = Table.read(data_dir+'egs.hdf5')"
   ]
  },
  {
   "cell_type": "code",
   "execution_count": 8,
   "metadata": {},
   "outputs": [],
   "source": [
    "egs_selection = np.where ( \\\n",
    "                          (egs['PhotFlag']==0) &\\\n",
    "                          (egs['CLASS_STAR']>0.9) & \\\n",
    "                         (egs['ACS_F606W_flux'] > 0) &\\\n",
    "                         (egs['ACS_F814W_flux'] > 0) &\\\n",
    "                         (egs['WFC3_F125W_flux'] > 0))\n",
    "# last 3 conditions ensure log10() exists"
   ]
  },
  {
   "cell_type": "code",
   "execution_count": 9,
   "metadata": {},
   "outputs": [],
   "source": [
    "egs_temp = egs[egs_selection]\n",
    "egs_selection2 = np.where ( \\\n",
    "                          -2.5*np.log10(egs_temp['ACS_F814W_flux']) < 1.359689)\n",
    "egs_final = egs_temp[egs_selection2]"
   ]
  },
  {
   "cell_type": "code",
   "execution_count": 10,
   "metadata": {},
   "outputs": [],
   "source": [
    "f606_egs_flux = egs_final['ACS_F606W_flux']  ## rest-frame .606 μm magnitude\n",
    "f814_egs_flux = egs_final['ACS_F814W_flux']   ## rest-frame .814 μm magnitude\n",
    "f125_egs_flux = egs_final['WFC3_F125W_flux']   ## rest-frame 1.60 μm magnitude\n",
    "\n",
    "f606_egs_mag = -2.5*np.log10(f606_egs_flux)\n",
    "f814_egs_mag = -2.5*np.log10(f814_egs_flux)\n",
    "f125_egs_mag = -2.5*np.log10(f125_egs_flux)\n",
    "\n",
    "f606_f814_egs = f606_egs_mag - f814_egs_mag\n",
    "f814_f125_egs = f814_egs_mag - f125_egs_mag\n",
    "\n",
    "mstar_egs = egs_final['M_med'] # already logged?\n",
    "z_egs = egs_final['z_best']  ## redshift"
   ]
  },
  {
   "cell_type": "code",
   "execution_count": 11,
   "metadata": {},
   "outputs": [
    {
     "name": "stderr",
     "output_type": "stream",
     "text": [
      "WARNING: path= was not specified but multiple tables are present, reading in first available table (path=data) [astropy.io.misc.hdf5]\n"
     ]
    }
   ],
   "source": [
    "gdn = Table.read(data_dir+'gdn.hdf5')"
   ]
  },
  {
   "cell_type": "code",
   "execution_count": 12,
   "metadata": {},
   "outputs": [],
   "source": [
    "gdn_selection = np.where ( \\\n",
    "                          (gdn['PhotFlag']==0) &\\\n",
    "                          (gdn['CLASS_STAR']>0.9) & \\\n",
    "                         (gdn['ACS_F606W_FLUX'] > 0) &\\\n",
    "                         (gdn['ACS_F814W_FLUX'] > 0) &\\\n",
    "                         (gdn['WFC3_F125W_FLUX'] > 0))\n",
    "# last 3 conditions ensure log10() exists"
   ]
  },
  {
   "cell_type": "code",
   "execution_count": 13,
   "metadata": {},
   "outputs": [],
   "source": [
    "gdn_temp = gdn[gdn_selection]\n",
    "gdn_selection2 = np.where ( \\\n",
    "                          -2.5*np.log10(gdn_temp['ACS_F814W_FLUX']) < 1.359689)\n",
    "gdn_final = gdn_temp[gdn_selection2]\n",
    "# print[gdn[0]]"
   ]
  },
  {
   "cell_type": "code",
   "execution_count": 14,
   "metadata": {},
   "outputs": [],
   "source": [
    "## define variables for GOODS-S\n",
    "\n",
    "f606_gdn_flux = gdn_final['ACS_F606W_FLUX']  ## rest-frame .606 μm magnitude\n",
    "f814_gdn_flux = gdn_final['ACS_F814W_FLUX']   ## rest-frame .814 μm magnitude\n",
    "f125_gdn_flux = gdn_final['WFC3_F125W_FLUX']   ## rest-frame 1.60 μm magnitude\n",
    "\n",
    "f606_gdn_mag = -2.5*np.log10(f606_gdn_flux)\n",
    "f814_gdn_mag = -2.5*np.log10(f814_gdn_flux)\n",
    "f125_gdn_mag = -2.5*np.log10(f125_gdn_flux)\n",
    "\n",
    "f606_f814_gdn = f606_gdn_mag - f814_gdn_mag\n",
    "f814_f125_gdn = f814_gdn_mag - f125_gdn_mag\n",
    "\n",
    "mstar_gdn = gdn_final['M_med'] # already logged?\n",
    "z_gdn = gdn_final['z_best_1']  ## redshift"
   ]
  },
  {
   "cell_type": "code",
   "execution_count": 15,
   "metadata": {},
   "outputs": [
    {
     "name": "stderr",
     "output_type": "stream",
     "text": [
      "WARNING: path= was not specified but multiple tables are present, reading in first available table (path=data) [astropy.io.misc.hdf5]\n"
     ]
    }
   ],
   "source": [
    "cos = Table.read(data_dir+'cos.hdf5')"
   ]
  },
  {
   "cell_type": "code",
   "execution_count": 16,
   "metadata": {},
   "outputs": [],
   "source": [
    "cos_selection = np.where ( \\\n",
    "                          (cos['PhotFlag']==0) &\\\n",
    "                          (cos['CLASS_STAR']>0.9) & \\\n",
    "                         (cos['ACS_F606W_FLUX'] > 0) &\\\n",
    "                         (cos['ACS_F814W_FLUX'] > 0) &\\\n",
    "                         (cos['WFC3_F125W_FLUX'] > 0))\n",
    "# last 3 conditions ensure log10() exists"
   ]
  },
  {
   "cell_type": "code",
   "execution_count": 17,
   "metadata": {},
   "outputs": [],
   "source": [
    "cos_temp = cos[cos_selection]\n",
    "cos_selection2 = np.where ( \\\n",
    "                          -2.5*np.log10(cos_temp['ACS_F814W_FLUX']) < 1.359689)\n",
    "cos_final = cos_temp[cos_selection2]"
   ]
  },
  {
   "cell_type": "code",
   "execution_count": 18,
   "metadata": {},
   "outputs": [],
   "source": [
    "f606_cos_flux = cos_final['ACS_F606W_FLUX']  ## rest-frame .606 μm magnitude\n",
    "f814_cos_flux = cos_final['ACS_F814W_FLUX']   ## rest-frame .814 μm magnitude\n",
    "f125_cos_flux = cos_final['WFC3_F125W_FLUX']   ## rest-frame 1.25 μm magnitude\n",
    "\n",
    "f606_cos_mag = -2.5*np.log10(f606_cos_flux)\n",
    "f814_cos_mag = -2.5*np.log10(f814_cos_flux)\n",
    "f125_cos_mag = -2.5*np.log10(f125_cos_flux)\n",
    "\n",
    "f606_f814_cos = f606_cos_mag - f814_cos_mag\n",
    "f814_f125_cos = f814_cos_mag - f125_cos_mag\n",
    "\n",
    "mstar_cos = cos_final['M_med'] # already logged?\n",
    "z_cos = cos_final['z_best']  ## redshift"
   ]
  },
  {
   "cell_type": "code",
   "execution_count": 19,
   "metadata": {},
   "outputs": [],
   "source": [
    "f606_f814 = np.concatenate([f606_f814_gds,f606_f814_egs,f606_f814_gdn,f606_f814_cos])\n",
    "f814_f125 = np.concatenate([f814_f125_gds,f814_f125_egs,f814_f125_gdn,f814_f125_cos])\n",
    "mass = np.concatenate([mstar_gds,mstar_egs])\n",
    "redshift = np.concatenate([z_gds,z_egs])"
   ]
  },
  {
   "cell_type": "code",
   "execution_count": 20,
   "metadata": {
    "scrolled": true
   },
   "outputs": [
    {
     "data": {
      "image/png": "[encoded data removed]",
      "text/plain": [
       "<Figure size 576x576 with 1 Axes>"
      ]
     },
     "metadata": {},
     "output_type": "display_data"
    }
   ],
   "source": [
    "fig=plt.figure(figsize=(8,8))\n",
    "plt.scatter(f606_f814,f814_f125,c='gray',edgecolors='none',s=8,alpha=0.7)\n",
    "plt.xlim(-0.25,2.5)\n",
    "plt.ylim(0,2.2)\n",
    "plt.xlabel('.814micron-1.25micron')\n",
    "plt.ylabel('.606micron-.814micron')\n",
    "plt.savefig('/Users/Andy/Desktop/test5.pdf')"
   ]
  }
 ],
 "metadata": {
  "kernelspec": {
   "display_name": "Python 2",
   "language": "python",
   "name": "python2"
  },
  "language_info": {
   "codemirror_mode": {
    "name": "ipython",
    "version": 2
   },
   "file_extension": ".py",
   "mimetype": "text/x-python",
   "name": "python",
   "nbconvert_exporter": "python",
   "pygments_lexer": "ipython2",
   "version": "2.7.15"
  }
 },
 "nbformat": 4,
 "nbformat_minor": 2
}

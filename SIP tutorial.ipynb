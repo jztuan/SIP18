{
 "cells": [
  {
   "cell_type": "markdown",
   "metadata": {},
   "source": [
    "# Tutorial to read in CANDELS data and plot figures"
   ]
  },
  {
   "cell_type": "code",
   "execution_count": 2,
   "metadata": {},
   "outputs": [],
   "source": [
    "## set paths to catalog/script files and output directories (for plots)\n",
    "data_dir = '../hdf5files/'\n",
    "script_dir = './'\n",
    "out_dir = './'"
   ]
  },
  {
   "cell_type": "code",
   "execution_count": 10,
   "metadata": {},
   "outputs": [],
   "source": [
    "## load plotting routines\n",
    "execfile('/Users/Andy/Documents/SIP18/SIP_jerome_scripts2/plot_routines.py')"
   ]
  },
  {
   "cell_type": "markdown",
   "metadata": {},
   "source": [
    "## Read in and setup data for plotting"
   ]
  },
  {
   "cell_type": "markdown",
   "metadata": {},
   "source": [
    "### GOODS-S"
   ]
  },
  {
   "cell_type": "code",
   "execution_count": 18,
   "metadata": {},
   "outputs": [
    {
     "name": "stderr",
     "output_type": "stream",
     "text": [
      "WARNING: path= was not specified but multiple tables are present, reading in first available table (path=data) [astropy.io.misc.hdf5]\n"
     ]
    }
   ],
   "source": [
    "## read in catalog for GOODS-S \n",
    "gds = Table.read(data_dir+'gds.hdf5')"
   ]
  },
  {
   "cell_type": "code",
   "execution_count": 21,
   "metadata": {},
   "outputs": [
    {
     "ename": "KeyError",
     "evalue": "'mag_f160w_4'",
     "output_type": "error",
     "traceback": [
      "\u001b[0;31m---------------------------------------------------------------------------\u001b[0m",
      "\u001b[0;31mKeyError\u001b[0m                                  Traceback (most recent call last)",
      "\u001b[0;32m<ipython-input-21-2a1409971156>\u001b[0m in \u001b[0;36m<module>\u001b[0;34m()\u001b[0m\n\u001b[1;32m      8\u001b[0m \u001b[0;31m## GALFIT flag = 0\u001b[0m\u001b[0;34m\u001b[0m\u001b[0;34m\u001b[0m\u001b[0m\n\u001b[1;32m      9\u001b[0m \u001b[0;34m\u001b[0m\u001b[0m\n\u001b[0;32m---> 10\u001b[0;31m \u001b[0mgds_selection\u001b[0m \u001b[0;34m=\u001b[0m \u001b[0mnp\u001b[0m\u001b[0;34m.\u001b[0m\u001b[0mwhere\u001b[0m\u001b[0;34m(\u001b[0m                       \u001b[0;34m(\u001b[0m\u001b[0mgds\u001b[0m\u001b[0;34m[\u001b[0m\u001b[0;34m'mag_f160w_4'\u001b[0m\u001b[0;34m]\u001b[0m\u001b[0;34m<\u001b[0m\u001b[0;36m24.5\u001b[0m\u001b[0;34m)\u001b[0m \u001b[0;34m&\u001b[0m                      \u001b[0;34m(\u001b[0m\u001b[0mgds\u001b[0m\u001b[0;34m[\u001b[0m\u001b[0;34m'PhotFlag'\u001b[0m\u001b[0;34m]\u001b[0m\u001b[0;34m==\u001b[0m\u001b[0;36m0\u001b[0m\u001b[0;34m)\u001b[0m \u001b[0;34m&\u001b[0m                       \u001b[0;34m(\u001b[0m\u001b[0mgds\u001b[0m\u001b[0;34m[\u001b[0m\u001b[0;34m'CLASS_STAR'\u001b[0m\u001b[0;34m]\u001b[0m\u001b[0;34m<\u001b[0m\u001b[0;36m0.9\u001b[0m\u001b[0;34m)\u001b[0m \u001b[0;34m&\u001b[0m                       \u001b[0;34m(\u001b[0m\u001b[0mgds\u001b[0m\u001b[0;34m[\u001b[0m\u001b[0;34m'z_best'\u001b[0m\u001b[0;34m]\u001b[0m\u001b[0;34m>\u001b[0m\u001b[0;36m0.5\u001b[0m\u001b[0;34m)\u001b[0m \u001b[0;34m&\u001b[0m \u001b[0;34m(\u001b[0m\u001b[0mgds\u001b[0m\u001b[0;34m[\u001b[0m\u001b[0;34m'z_best'\u001b[0m\u001b[0;34m]\u001b[0m\u001b[0;34m<\u001b[0m\u001b[0;36m2.5\u001b[0m\u001b[0;34m)\u001b[0m \u001b[0;34m&\u001b[0m                       \u001b[0;34m(\u001b[0m\u001b[0mlog10\u001b[0m\u001b[0;34m(\u001b[0m\u001b[0mgds\u001b[0m\u001b[0;34m[\u001b[0m\u001b[0;34m'M_med'\u001b[0m\u001b[0;34m]\u001b[0m\u001b[0;34m)\u001b[0m\u001b[0;34m>\u001b[0m\u001b[0;36m9.0\u001b[0m\u001b[0;34m)\u001b[0m \u001b[0;34m&\u001b[0m \u001b[0;34m(\u001b[0m\u001b[0mlog10\u001b[0m\u001b[0;34m(\u001b[0m\u001b[0mgds\u001b[0m\u001b[0;34m[\u001b[0m\u001b[0;34m'M_med'\u001b[0m\u001b[0;34m]\u001b[0m\u001b[0;34m)\u001b[0m\u001b[0;34m<\u001b[0m\u001b[0;36m11.0\u001b[0m\u001b[0;34m)\u001b[0m \u001b[0;34m&\u001b[0m                      \u001b[0;34m(\u001b[0m\u001b[0mgds\u001b[0m\u001b[0;34m[\u001b[0m\u001b[0;34m'f_f160w'\u001b[0m\u001b[0;34m]\u001b[0m\u001b[0;34m==\u001b[0m\u001b[0;36m0\u001b[0m\u001b[0;34m)\u001b[0m\u001b[0;34m)\u001b[0m\u001b[0;34m\u001b[0m\u001b[0m\n\u001b[0m",
      "\u001b[0;32m/Users/Andy/anaconda2/lib/python2.7/site-packages/astropy/table/table.pyc\u001b[0m in \u001b[0;36m__getitem__\u001b[0;34m(self, item)\u001b[0m\n\u001b[1;32m   1220\u001b[0m     \u001b[0;32mdef\u001b[0m \u001b[0m__getitem__\u001b[0m\u001b[0;34m(\u001b[0m\u001b[0mself\u001b[0m\u001b[0;34m,\u001b[0m \u001b[0mitem\u001b[0m\u001b[0;34m)\u001b[0m\u001b[0;34m:\u001b[0m\u001b[0;34m\u001b[0m\u001b[0m\n\u001b[1;32m   1221\u001b[0m         \u001b[0;32mif\u001b[0m \u001b[0misinstance\u001b[0m\u001b[0;34m(\u001b[0m\u001b[0mitem\u001b[0m\u001b[0;34m,\u001b[0m \u001b[0msix\u001b[0m\u001b[0;34m.\u001b[0m\u001b[0mstring_types\u001b[0m\u001b[0;34m)\u001b[0m\u001b[0;34m:\u001b[0m\u001b[0;34m\u001b[0m\u001b[0m\n\u001b[0;32m-> 1222\u001b[0;31m             \u001b[0;32mreturn\u001b[0m \u001b[0mself\u001b[0m\u001b[0;34m.\u001b[0m\u001b[0mcolumns\u001b[0m\u001b[0;34m[\u001b[0m\u001b[0mitem\u001b[0m\u001b[0;34m]\u001b[0m\u001b[0;34m\u001b[0m\u001b[0m\n\u001b[0m\u001b[1;32m   1223\u001b[0m         \u001b[0;32melif\u001b[0m \u001b[0misinstance\u001b[0m\u001b[0;34m(\u001b[0m\u001b[0mitem\u001b[0m\u001b[0;34m,\u001b[0m \u001b[0;34m(\u001b[0m\u001b[0mint\u001b[0m\u001b[0;34m,\u001b[0m \u001b[0mnp\u001b[0m\u001b[0;34m.\u001b[0m\u001b[0minteger\u001b[0m\u001b[0;34m)\u001b[0m\u001b[0;34m)\u001b[0m\u001b[0;34m:\u001b[0m\u001b[0;34m\u001b[0m\u001b[0m\n\u001b[1;32m   1224\u001b[0m             \u001b[0;32mreturn\u001b[0m \u001b[0mself\u001b[0m\u001b[0;34m.\u001b[0m\u001b[0mRow\u001b[0m\u001b[0;34m(\u001b[0m\u001b[0mself\u001b[0m\u001b[0;34m,\u001b[0m \u001b[0mitem\u001b[0m\u001b[0;34m)\u001b[0m\u001b[0;34m\u001b[0m\u001b[0m\n",
      "\u001b[0;32m/Users/Andy/anaconda2/lib/python2.7/site-packages/astropy/table/table.pyc\u001b[0m in \u001b[0;36m__getitem__\u001b[0;34m(self, item)\u001b[0m\n\u001b[1;32m    107\u001b[0m         \"\"\"\n\u001b[1;32m    108\u001b[0m         \u001b[0;32mif\u001b[0m \u001b[0misinstance\u001b[0m\u001b[0;34m(\u001b[0m\u001b[0mitem\u001b[0m\u001b[0;34m,\u001b[0m \u001b[0msix\u001b[0m\u001b[0;34m.\u001b[0m\u001b[0mstring_types\u001b[0m\u001b[0;34m)\u001b[0m\u001b[0;34m:\u001b[0m\u001b[0;34m\u001b[0m\u001b[0m\n\u001b[0;32m--> 109\u001b[0;31m             \u001b[0;32mreturn\u001b[0m \u001b[0mOrderedDict\u001b[0m\u001b[0;34m.\u001b[0m\u001b[0m__getitem__\u001b[0m\u001b[0;34m(\u001b[0m\u001b[0mself\u001b[0m\u001b[0;34m,\u001b[0m \u001b[0mitem\u001b[0m\u001b[0;34m)\u001b[0m\u001b[0;34m\u001b[0m\u001b[0m\n\u001b[0m\u001b[1;32m    110\u001b[0m         \u001b[0;32melif\u001b[0m \u001b[0misinstance\u001b[0m\u001b[0;34m(\u001b[0m\u001b[0mitem\u001b[0m\u001b[0;34m,\u001b[0m \u001b[0;34m(\u001b[0m\u001b[0mint\u001b[0m\u001b[0;34m,\u001b[0m \u001b[0mnp\u001b[0m\u001b[0;34m.\u001b[0m\u001b[0minteger\u001b[0m\u001b[0;34m)\u001b[0m\u001b[0;34m)\u001b[0m\u001b[0;34m:\u001b[0m\u001b[0;34m\u001b[0m\u001b[0m\n\u001b[1;32m    111\u001b[0m             \u001b[0;32mreturn\u001b[0m \u001b[0mself\u001b[0m\u001b[0;34m.\u001b[0m\u001b[0mvalues\u001b[0m\u001b[0;34m(\u001b[0m\u001b[0;34m)\u001b[0m\u001b[0;34m[\u001b[0m\u001b[0mitem\u001b[0m\u001b[0;34m]\u001b[0m\u001b[0;34m\u001b[0m\u001b[0m\n",
      "\u001b[0;31mKeyError\u001b[0m: 'mag_f160w_4'"
     ]
    }
   ],
   "source": [
    "# define selection cuts for GOODS-S\n",
    "\n",
    "## F160W < 24.5 mag\n",
    "## SE flag (PhotFlag) = 0\n",
    "## CLASS_STAR < 0.9\n",
    "## redshifts between 0.2 and 2.5\n",
    "## masses between 9 and 11\n",
    "## GALFIT flag = 0\n",
    "\n",
    "gds_selection = np.where( \\\n",
    "                      (gds['mag_f160w_4']<24.5) &\\\n",
    "                      (gds['PhotFlag']==0) & \\\n",
    "                      (gds['CLASS_STAR']<0.9) & \\\n",
    "                      (gds['z_best']>0.5) & (gds['z_best']<2.5) & \\\n",
    "                      (log10(gds['M_med'])>9.0) & (log10(gds['M_med'])<11.0) &\\\n",
    "                      (gds['f_f160w']==0))\n"
   ]
  },
  {
   "cell_type": "code",
   "execution_count": 22,
   "metadata": {},
   "outputs": [
    {
     "ename": "NameError",
     "evalue": "name 'gds_selection' is not defined",
     "output_type": "error",
     "traceback": [
      "\u001b[0;31m---------------------------------------------------------------------------\u001b[0m",
      "\u001b[0;31mNameError\u001b[0m                                 Traceback (most recent call last)",
      "\u001b[0;32m<ipython-input-22-dd274d257e56>\u001b[0m in \u001b[0;36m<module>\u001b[0;34m()\u001b[0m\n\u001b[0;32m----> 1\u001b[0;31m \u001b[0;32mprint\u001b[0m \u001b[0mgds_selection\u001b[0m\u001b[0;34m\u001b[0m\u001b[0m\n\u001b[0m",
      "\u001b[0;31mNameError\u001b[0m: name 'gds_selection' is not defined"
     ]
    }
   ],
   "source": [
    "print gds_selection"
   ]
  },
  {
   "cell_type": "code",
   "execution_count": null,
   "metadata": {},
   "outputs": [],
   "source": [
    "## define new structure with only selected objects\n",
    "gds_final = gds[gds_selection]"
   ]
  },
  {
   "cell_type": "code",
   "execution_count": null,
   "metadata": {},
   "outputs": [],
   "source": [
    "## define variables for GOODS-S\n",
    "\n",
    "u_gds = gds_final['restUXbessel']  ## rest-frame U magnitude\n",
    "v_gds = gds_final['restVbessel']   ## rest-frame V magnitude\n",
    "j_gds = gds_final['restJpalomar']  ## rest-frame J magnitude\n",
    "\n",
    "uv_gds = u_gds - v_gds\n",
    "vj_gds = v_gds - j_gds\n",
    "\n",
    "uvprime_gds = gds_final['uvrot'] ## (U-V)' color\n",
    "vjprime_gds = gds_final['vjrot'] ## (V-J)' color\n",
    "\n",
    "mstar_gds = log10(gds_final['M_med']) ## log (median) stellar mass (in M_sun)\n",
    "z_gds = gds_final['z_best']  ## redshift\n",
    "\n",
    "ssfr_gds = gds_final['ssfr_uv_corr'] ## log specific SFR (UV,corr)\n",
    "sf_flag_gds = gds_final['sf_flag'] ## -1 if quiescent, 1 if star-forming, acc to UVJ\n",
    "delssfr_gds = gds_final['delta_ssfr'] ## Delta log SSFR\n",
    "av_gds = gds_final['med_av'] ## (median) visual attenuation (in mag)\n",
    "\n",
    "sma_gds = log10(gds_final['sma_f160w_kpc']) ## log SMA (in kpc)\n",
    "delsma_gds = gds_final['delta_sma']  ## Delta log SMA\n",
    "n_gds = gds_final['n_f160w']  ## Sersic index n\n",
    "ba_gds = gds_final['q_f160w'] ## axis ratio b/a"
   ]
  },
  {
   "cell_type": "markdown",
   "metadata": {},
   "source": [
    "### UDS"
   ]
  },
  {
   "cell_type": "code",
   "execution_count": null,
   "metadata": {},
   "outputs": [],
   "source": [
    "uds = Table.read('uds_all.hdf5')"
   ]
  },
  {
   "cell_type": "code",
   "execution_count": null,
   "metadata": {},
   "outputs": [],
   "source": [
    "uds_selection = where( \\\n",
    "                      (uds['mag_f160w_4']<26.7) &\\\n",
    "                      (uds['PhotFlag']==0) & \\\n",
    "                      (uds['CLASS_STAR']<0.9) & \\\n",
    "                      (uds['z_best']>0.2) & (uds['z_best']<2.5) & \\\n",
    "                      (log10(uds['M_med'])>9.0) & (log10(uds['M_med'])<11.0) &\\\n",
    "                      (uds['f_f160w']==0))"
   ]
  },
  {
   "cell_type": "code",
   "execution_count": null,
   "metadata": {},
   "outputs": [],
   "source": [
    "uds_final = uds[uds_selection]"
   ]
  },
  {
   "cell_type": "code",
   "execution_count": null,
   "metadata": {},
   "outputs": [],
   "source": [
    "## define variables for UDS\n",
    "\n",
    "u_uds = uds_final['restUXbessel']  ## rest-frame U magnitude\n",
    "v_uds = uds_final['restVbessel']   ## rest-frame V magnitude\n",
    "j_uds = uds_final['restJpalomar']  ## rest-frame J magnitude\n",
    "\n",
    "uv_uds = u_uds - v_uds\n",
    "vj_uds = v_uds - j_uds\n",
    "\n",
    "uvprime_uds = uds_final['uvrot'] ## (U-V)' color\n",
    "vjprime_uds = uds_final['vjrot'] ## (V-J)' color\n",
    "\n",
    "mstar_uds = log10(uds_final['M_med']) ## log (median) stellar mass (in M_sun)\n",
    "z_uds = uds_final['z_best']  ## redshift\n",
    "\n",
    "ssfr_uds = uds_final['ssfr_uv_corr'] ## log specific SFR (UV,corr)\n",
    "sf_flag_uds = uds_final['sf_flag'] ## -1 if quiescent, 1 if star-forming, acc to UVJ\n",
    "delssfr_uds = uds_final['delta_ssfr'] ## Delta log SSFR\n",
    "av_uds = uds_final['med_av'] ## (median) visual attenuation (in mag)\n",
    "\n",
    "sma_uds = log10(uds_final['sma_f160w_kpc']) ## log SMA (in kpc)\n",
    "delsma_uds = uds_final['delta_sma']  ## Delta log SMA\n",
    "n_uds = uds_final['n_f160w']  ## Sersic index n\n",
    "ba_uds = uds_final['q_f160w'] ## axis ratio b/a"
   ]
  },
  {
   "cell_type": "markdown",
   "metadata": {},
   "source": [
    "### Join GOODS-S and UDS variables together to be able to plot both at the same time"
   ]
  },
  {
   "cell_type": "code",
   "execution_count": null,
   "metadata": {},
   "outputs": [],
   "source": [
    "uv = concatenate([u_gds-v_gds,u_uds-v_uds])\n",
    "vj = concatenate([v_gds-j_gds,v_uds-j_uds])\n",
    "\n",
    "uvprime = concatenate([uvprime_gds,uvprime_uds])\n",
    "vjprime = concatenate([vjprime_gds,vjprime_uds])\n",
    "\n",
    "mass = concatenate([mstar_gds,mstar_uds])\n",
    "redshift = concatenate([z_gds,z_uds])\n",
    "\n",
    "ssfr = concatenate([ssfr_gds,ssfr_uds])\n",
    "sf_flag = concatenate([sf_flag_gds,sf_flag_uds])\n",
    "delssfr = concatenate([delssfr_gds,delssfr_uds])\n",
    "av = concatenate([av_gds,av_uds])\n",
    "\n",
    "sma = concatenate([sma_gds,sma_uds])\n",
    "delsma = concatenate([delsma_gds,delsma_uds])\n",
    "sersic = concatenate([n_gds,n_uds])\n",
    "ba = concatenate([ba_gds,ba_uds])"
   ]
  },
  {
   "cell_type": "markdown",
   "metadata": {},
   "source": [
    "## Example plots"
   ]
  },
  {
   "cell_type": "markdown",
   "metadata": {},
   "source": [
    "### $UVJ$ Diagram for whole sample"
   ]
  },
  {
   "cell_type": "code",
   "execution_count": null,
   "metadata": {},
   "outputs": [],
   "source": [
    "fig=figure(figsize=(8,8))\n",
    "scatter(vj,uv,c='gray',edgecolors='none',s=8,alpha=0.7)\n",
    "xlim(-0.25,2.5)\n",
    "ylim(0,2.2)\n",
    "xlabel('V-J')\n",
    "ylabel('U-V')"
   ]
  },
  {
   "cell_type": "markdown",
   "metadata": {},
   "source": [
    "### $UVJ$ grid diagram"
   ]
  },
  {
   "cell_type": "markdown",
   "metadata": {},
   "source": [
    "To make a grid of panels (mass and redshift bins), use the plot_grid command\n",
    "\n",
    "The 4 required arguments are: xdata, ydata, mass, redshift\n",
    "\n",
    "The remaining arguments are \"optional\", but important to specify axis ranges, labels, color-coding"
   ]
  },
  {
   "cell_type": "code",
   "execution_count": null,
   "metadata": {},
   "outputs": [],
   "source": [
    "ax = plot_grid(vj,uv,mass,redshift,\\\n",
    "               xmin=-0.25,xmax=2.5,xlabel='V-J',\\\n",
    "               ymin=0,ymax=2.2,ylabel='U-V')"
   ]
  },
  {
   "cell_type": "markdown",
   "metadata": {},
   "source": [
    "To color-code points, use the zdata argument, and set associated parameters"
   ]
  },
  {
   "cell_type": "code",
   "execution_count": null,
   "metadata": {},
   "outputs": [],
   "source": [
    "ax = plot_grid(vj,uv,mass,redshift,\\\n",
    "               xmin=-0.25,xmax=2.5,xlabel='V-J',\\\n",
    "               ymin=0,ymax=2.2,ylabel='U-V',\\\n",
    "               zdata=ssfr,zmin=-10.7,zmax=-8,zlabel='log SSFR',cmap=nipy_r)"
   ]
  },
  {
   "cell_type": "markdown",
   "metadata": {},
   "source": [
    "You can also generate binned (pixelated) versions of the diagram by setting binned=True (default is 20 bins along x and y)\n",
    "\n",
    "Each pixel gives the median value of the z-parameter in that pixel\n",
    "\n",
    "Optionally, specify the number of bins along the x and y axes by setting nxbins=N and nybins=N"
   ]
  },
  {
   "cell_type": "code",
   "execution_count": null,
   "metadata": {},
   "outputs": [],
   "source": [
    "ax = plot_grid(vj,uv,mass,redshift,\\\n",
    "               xmin=-0.25,xmax=2.5,xlabel='V-J',\\\n",
    "               ymin=0,ymax=2.2,ylabel='U-V',\\\n",
    "               zdata=ssfr,zmin=-10.7,zmax=-8,zlabel='log SSFR',cmap=nipy_r,\\\n",
    "               binned=True)"
   ]
  },
  {
   "cell_type": "markdown",
   "metadata": {},
   "source": [
    "You can plot data satisfying specific criteria by setting the \"condition\" argument\n",
    "\n",
    "When specifying multiple conditions, surround each with parentheses and link with &"
   ]
  },
  {
   "cell_type": "code",
   "execution_count": null,
   "metadata": {},
   "outputs": [],
   "source": [
    "## Only plot galaxies that are \"round\" (b/a>0.5) and star-forming (sf_flag=1)\n",
    "ax = plot_grid(vj,uv,mass,redshift,\\\n",
    "               xmin=-0.25,xmax=2.5,xlabel='V-J',\\\n",
    "               ymin=0,ymax=2.2,ylabel='U-V',\\\n",
    "               zdata=ssfr,zmin=-10.7,zmax=-8,zlabel='log SSFR',cmap=nipy_r,\\\n",
    "               condition=((ba>0.5) & (sf_flag==1)) )"
   ]
  },
  {
   "cell_type": "markdown",
   "metadata": {},
   "source": [
    "### Other test plots"
   ]
  },
  {
   "cell_type": "code",
   "execution_count": null,
   "metadata": {},
   "outputs": [],
   "source": [
    "ax = plot_grid(delsma,delssfr,mass,redshift,\\\n",
    "               xmin=-0.6,xmax=0.6,xlabel='Delta SMA',\\\n",
    "               ymin=-1.5,ymax=1.2,ylabel='Delta SSFR',\\\n",
    "               zdata=av,zmin=0,zmax=2.3,zlabel='A_V',cmap=nipy,\\\n",
    "               condition=((sf_flag==1)) )\n",
    "\n",
    "## you can plot lines in each panel using add_line\n",
    "xx=linspace(-1,1,10)\n",
    "add_line(ax,xx,xx*0-0.4,c='r',ls='--')"
   ]
  },
  {
   "cell_type": "code",
   "execution_count": null,
   "metadata": {},
   "outputs": [],
   "source": [
    "ax = plot_grid(delsma,ba,mass,redshift,\\\n",
    "               xmin=-0.6,xmax=0.6,xlabel='Delta SMA',\\\n",
    "               ymin=0,ymax=1.1,ylabel='Axis ratio b/a',\\\n",
    "               zdata=av,zmin=0,zmax=2.3,zlabel='A_V',cmap=nipy,\\\n",
    "               condition=((sf_flag==1) & (delssfr>-0.4)) )\n",
    "\n",
    "savefig('/Users/jjfang/Desktop/test.pdf')"
   ]
  },
  {
   "cell_type": "code",
   "execution_count": null,
   "metadata": {},
   "outputs": [],
   "source": []
  }
 ],
 "metadata": {
  "kernelspec": {
   "display_name": "Python 2",
   "language": "python",
   "name": "python2"
  }
 },
 "nbformat": 4,
 "nbformat_minor": 1
}
